{
 "cells": [
  {
   "cell_type": "code",
   "execution_count": 1,
   "metadata": {
    "collapsed": false,
    "slideshow": {
     "slide_type": "slide"
    }
   },
   "outputs": [
    {
     "name": "stdout",
     "output_type": "stream",
     "text": [
      "Requirement already satisfied: pyserial in /home/titus/anaconda2/lib/python2.7/site-packages\n",
      "Requirement already satisfied: update in /home/titus/anaconda2/lib/python2.7/site-packages\n"
     ]
    }
   ],
   "source": [
    "%%bash\n",
    "pip install pyserial -- update"
   ]
  },
  {
   "cell_type": "code",
   "execution_count": 2,
   "metadata": {
    "collapsed": false,
    "slideshow": {
     "slide_type": "slide"
    }
   },
   "outputs": [],
   "source": [
    "import numpy as np\n",
    "from itertools import izip #in python 3 not needed, replace here izip by zip\n",
    "import sys\n",
    "import numpy as np\n",
    "import collections"
   ]
  },
  {
   "cell_type": "markdown",
   "metadata": {
    "slideshow": {
     "slide_type": "slide"
    }
   },
   "source": [
    "# Carte ADUC\n",
    "\n",
    "## An Analog to Digital Converter (ADC) on the chip"
   ]
  },
  {
   "cell_type": "markdown",
   "metadata": {
    "slideshow": {
     "slide_type": "slide"
    }
   },
   "source": [
    "## Operating principle of the ADUC cart"
   ]
  },
  {
   "cell_type": "markdown",
   "metadata": {
    "slideshow": {
     "slide_type": "subslide"
    }
   },
   "source": [
    "### Integer to ASCII conversion"
   ]
  },
  {
   "cell_type": "code",
   "execution_count": 5,
   "metadata": {
    "collapsed": true,
    "slideshow": {
     "slide_type": "fragment"
    }
   },
   "outputs": [],
   "source": [
    "def intToASCII(string): \n",
    "    ascii = str(unichr(int(string)))\n",
    "    return ascii"
   ]
  },
  {
   "cell_type": "code",
   "execution_count": 6,
   "metadata": {
    "collapsed": false,
    "slideshow": {
     "slide_type": "fragment"
    }
   },
   "outputs": [
    {
     "name": "stdout",
     "output_type": "stream",
     "text": [
      "=\n"
     ]
    }
   ],
   "source": [
    "ascii = intToASCII('61')\n",
    "print ascii"
   ]
  },
  {
   "cell_type": "markdown",
   "metadata": {
    "slideshow": {
     "slide_type": "subslide"
    }
   },
   "source": [
    "### ASCII to integer conversion"
   ]
  },
  {
   "cell_type": "code",
   "execution_count": 7,
   "metadata": {
    "collapsed": true,
    "slideshow": {
     "slide_type": "fragment"
    }
   },
   "outputs": [],
   "source": [
    "def asciitoint(ascii):\n",
    "    return int(ord(ascii))\n",
    "        "
   ]
  },
  {
   "cell_type": "code",
   "execution_count": 8,
   "metadata": {
    "collapsed": false,
    "slideshow": {
     "slide_type": "fragment"
    }
   },
   "outputs": [
    {
     "name": "stdout",
     "output_type": "stream",
     "text": [
      "61\n"
     ]
    }
   ],
   "source": [
    "print asciitoint(ascii)"
   ]
  },
  {
   "cell_type": "markdown",
   "metadata": {
    "collapsed": false,
    "slideshow": {
     "slide_type": "slide"
    }
   },
   "source": [
    "## The pyserial modul"
   ]
  },
  {
   "cell_type": "markdown",
   "metadata": {
    "slideshow": {
     "slide_type": "subslide"
    }
   },
   "source": [
    "- Enables writing on a SerialPort"
   ]
  },
  {
   "cell_type": "markdown",
   "metadata": {
    "slideshow": {
     "slide_type": "fragment"
    }
   },
   "source": [
    "Some basic properties:\n",
    "- port\n",
    "- baudrate\n",
    "- open\n",
    "- write\n",
    "- read\n",
    "- close"
   ]
  },
  {
   "cell_type": "markdown",
   "metadata": {
    "slideshow": {
     "slide_type": "subslide"
    }
   },
   "source": [
    "## Some commands"
   ]
  },
  {
   "cell_type": "code",
   "execution_count": 9,
   "metadata": {
    "collapsed": false,
    "slideshow": {
     "slide_type": "fragment"
    }
   },
   "outputs": [
    {
     "name": "stdout",
     "output_type": "stream",
     "text": [
      "/dev/ttyUSB1\n"
     ]
    }
   ],
   "source": [
    "import serial\n",
    "carte = serial.Serial()\n",
    "carte.port = '/dev/ttyUSB1' # for Windows: \"COM1\", \"COM2\", ...\n",
    "print carte.port\n",
    "carte.baudrate = 38400"
   ]
  },
  {
   "cell_type": "code",
   "execution_count": 10,
   "metadata": {
    "collapsed": false,
    "slideshow": {
     "slide_type": "fragment"
    }
   },
   "outputs": [
    {
     "name": "stdout",
     "output_type": "stream",
     "text": [
      "True\n"
     ]
    }
   ],
   "source": [
    "carte.open()\n",
    "print carte.isOpen()"
   ]
  },
  {
   "cell_type": "code",
   "execution_count": 11,
   "metadata": {
    "collapsed": false,
    "slideshow": {
     "slide_type": "subslide"
    }
   },
   "outputs": [
    {
     "name": "stdout",
     "output_type": "stream",
     "text": [
      "f\n",
      "ac\u000f\n",
      "W\u000eB\f",
      "'\f",
      "\u0015\f",
      "\u0005\u000b",
      "[\u000b",
      "S\u000b",
      "N\u000b",
      "K\u000b",
      "I\u000b",
      "M\u000b",
      "O\u000b",
      "Q\u000b",
      "S\u000b",
      "U\u000b",
      "V\u000b",
      "X\u000b",
      "Z\u000b",
      "\\\u000b",
      "^\u000b",
      "_\f",
      "\u0001\f",
      " \f",
      "@\f",
      "b\n",
      "c\u000b",
      "T\u000b",
      "S\f",
      "B\u000e=\u000e]\u000e\u0012\u000eD\u000e2\f",
      "\u0005\u000b",
      "P\f",
      "\u000b",
      "\u000e-\u000eD\u000eE\u000eD\u000eC\u000eA\u000e?\u000e<\u000e%\u000e\u0005\f",
      "\u0019\f",
      "9\f",
      "Y\n"
     ]
    }
   ],
   "source": [
    "carte.write('f')\n",
    "print carte.read()\n",
    "carte.write('abs')\n",
    "print carte.read(3)\n",
    "print carte.read(512)"
   ]
  },
  {
   "cell_type": "code",
   "execution_count": 137,
   "metadata": {
    "collapsed": false,
    "slideshow": {
     "slide_type": "fragment"
    }
   },
   "outputs": [
    {
     "name": "stdout",
     "output_type": "stream",
     "text": [
      "s\n"
     ]
    }
   ],
   "source": [
    "while True:\n",
    "    carte.write('s')\n",
    "    test = carte.read()\n",
    "    print test\n",
    "    if test == 's':\n",
    "        break"
   ]
  },
  {
   "cell_type": "markdown",
   "metadata": {
    "collapsed": false,
    "slideshow": {
     "slide_type": "slide"
    }
   },
   "source": [
    "# Data acquisition"
   ]
  },
  {
   "cell_type": "markdown",
   "metadata": {
    "slideshow": {
     "slide_type": "subslide"
    }
   },
   "source": [
    "### Short introduction on signals and slots"
   ]
  },
  {
   "cell_type": "markdown",
   "metadata": {
    "slideshow": {
     "slide_type": "fragment"
    }
   },
   "source": [
    "Python uses signals and slots for communication between differents Threads:"
   ]
  },
  {
   "cell_type": "markdown",
   "metadata": {
    "slideshow": {
     "slide_type": "subslide"
    }
   },
   "source": [
    "### In the thread"
   ]
  },
  {
   "cell_type": "code",
   "execution_count": null,
   "metadata": {
    "collapsed": true,
    "slideshow": {
     "slide_type": "fragment"
    }
   },
   "outputs": [],
   "source": [
    "datatransfer = QSignal(np.ndarray)\n",
    "data = np.ndarray\n",
    "\n",
    "datatransfer.emit(data)"
   ]
  },
  {
   "cell_type": "markdown",
   "metadata": {
    "slideshow": {
     "slide_type": "fragment"
    }
   },
   "source": [
    "### In the GUI"
   ]
  },
  {
   "cell_type": "code",
   "execution_count": null,
   "metadata": {
    "collapsed": true,
    "slideshow": {
     "slide_type": "fragment"
    }
   },
   "outputs": [],
   "source": [
    "datatransfer.connect(analyse_and_plot_data)"
   ]
  },
  {
   "cell_type": "markdown",
   "metadata": {
    "slideshow": {
     "slide_type": "subslide"
    }
   },
   "source": [
    "### Freerun mode"
   ]
  },
  {
   "cell_type": "markdown",
   "metadata": {
    "slideshow": {
     "slide_type": "fragment"
    }
   },
   "source": [
    "- To start: write and read 'f'\n",
    "- write and read the timebase\n",
    "- Acquire_data function\n",
    "    * read buffer\n",
    "    * Convert ASCII to integer\n",
    "    * Emit signal containing the data"
   ]
  },
  {
   "cell_type": "markdown",
   "metadata": {
    "slideshow": {
     "slide_type": "subslide"
    }
   },
   "source": [
    "\n",
    "- Analyse_and_plot_data function (starts when it detects the signal)\n",
    "    * calculate the Power Density Function (DSP)\n",
    "    * Update the plot\n",
    "    * Depending on the the status of the button: Restart Acquire_data function"
   ]
  },
  {
   "cell_type": "markdown",
   "metadata": {
    "slideshow": {
     "slide_type": "slide"
    }
   },
   "source": [
    "## PyQtGraph: A useful tool for realtimeploting\n",
    "### Scientific Graphics and GUI Library for Python"
   ]
  },
  {
   "cell_type": "markdown",
   "metadata": {
    "collapsed": true,
    "slideshow": {
     "slide_type": "subslide"
    }
   },
   "source": [
    "## Comparison with Matplotlib\n",
    "#### Advantages\n",
    "- Speed: Allows rapid plot updates\n",
    "- Realtime interactivity: Allows changing time scales and zooms.\n",
    "\n",
    "#### Disadvantages\n",
    "- Matplotlib has publication-quality graphics\n",
    "- Matplotlib has the bigger user community\n"
   ]
  },
  {
   "cell_type": "markdown",
   "metadata": {
    "slideshow": {
     "slide_type": "subslide"
    }
   },
   "source": [
    "## Integration in a QWidget"
   ]
  },
  {
   "cell_type": "code",
   "execution_count": null,
   "metadata": {
    "collapsed": true,
    "slideshow": {
     "slide_type": "fragment"
    }
   },
   "outputs": [],
   "source": [
    "canvas_plot = pg.GraphicsLayoutWidget()\n",
    "plt = self.canvas_plot.addPlot(title='ADUC DATA')\n",
    "\n",
    "global grid\n",
    "grid.addWidget(canvas_plot, 0, 0)"
   ]
  },
  {
   "cell_type": "markdown",
   "metadata": {
    "slideshow": {
     "slide_type": "subslide"
    }
   },
   "source": [
    "## Parameteres of the plot"
   ]
  },
  {
   "cell_type": "code",
   "execution_count": null,
   "metadata": {
    "collapsed": true,
    "slideshow": {
     "slide_type": "fragment"
    }
   },
   "outputs": [],
   "source": [
    "plt.showGrid(x=True, y=True)\n",
    "plt.setLabel('left', 'amplitude', 'V')\n",
    "plt.setLabel('bottom', 'time', 's')\n",
    "plt.setLogMode(x=True, y=True)\n",
    "curve = plt.plot(x, y, pen=(255,0,0))\n",
    "\n",
    "curve.setData(x,y)"
   ]
  },
  {
   "cell_type": "markdown",
   "metadata": {
    "slideshow": {
     "slide_type": "subslide"
    }
   },
   "source": [
    "# Utilization of a QPushButton\n"
   ]
  },
  {
   "cell_type": "code",
   "execution_count": null,
   "metadata": {
    "collapsed": true,
    "slideshow": {
     "slide_type": "fragment"
    }
   },
   "outputs": [],
   "source": [
    "lineedit = QLineEdit(string)\n",
    "button.clicked.connect(lambda: function(lineedit.text()))  "
   ]
  },
  {
   "cell_type": "markdown",
   "metadata": {
    "collapsed": true,
    "slideshow": {
     "slide_type": "slide"
    }
   },
   "source": [
    "# Presentation of the Program"
   ]
  }
 ],
 "metadata": {
  "celltoolbar": "Slideshow",
  "kernelspec": {
   "display_name": "Python 2",
   "language": "python",
   "name": "python2"
  },
  "language_info": {
   "codemirror_mode": {
    "name": "ipython",
    "version": 2
   },
   "file_extension": ".py",
   "mimetype": "text/x-python",
   "name": "python",
   "nbconvert_exporter": "python",
   "pygments_lexer": "ipython2",
   "version": "2.7.13"
  },
  "livereveal": {
   "scroll": true
  }
 },
 "nbformat": 4,
 "nbformat_minor": 0
}
